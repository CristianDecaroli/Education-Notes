{
 "cells": [
  {
   "cell_type": "markdown",
   "metadata": {},
   "source": [
    "### Instalar Python globalmente \n",
    "Se debe instalar en el sistema la o las versiones de Python a utiliar para el o los entornos virtuales. Cada entorno virtual está sujeto a una versión de python globalmente instalada.\n",
    "\n",
    "Primero actualizamos la paquetería apt desde donde descargaremos e instalaremos Python:"
   ]
  },
  {
   "cell_type": "code",
   "execution_count": null,
   "metadata": {
    "vscode": {
     "languageId": "powershell"
    }
   },
   "outputs": [],
   "source": [
    "sudo apt update"
   ]
  },
  {
   "cell_type": "markdown",
   "metadata": {},
   "source": [
    "Instalamos Python especificando todas la o las versiones a instalar que que luego podrán ser listadas con `python --version` para ver qué versiones tenemos en el sistema."
   ]
  },
  {
   "cell_type": "code",
   "execution_count": null,
   "metadata": {
    "vscode": {
     "languageId": "powershell"
    }
   },
   "outputs": [],
   "source": [
    "sudo apt install python3.8 python3.9"
   ]
  },
  {
   "cell_type": "markdown",
   "metadata": {},
   "source": [
    "### Instalar pip:\n",
    "Pip es el administrador de paquetes de Python y generalmente se instala automáticamente junto con Python. Sin embargo, si por alguna razón pip no está instalado, puedes instalarlo utilizando el siguiente comando:"
   ]
  },
  {
   "cell_type": "code",
   "execution_count": null,
   "metadata": {
    "vscode": {
     "languageId": "powershell"
    }
   },
   "outputs": [],
   "source": [
    "sudo apt install python3-pip"
   ]
  },
  {
   "cell_type": "markdown",
   "metadata": {},
   "source": [
    "Cabe recalcar que en el comando se especifica la versión de Python (`python3`) la cual incluye a las versiones de ejemplo en este apunte `python3.8` y `python3.9`."
   ]
  },
  {
   "cell_type": "markdown",
   "metadata": {},
   "source": [
    "### Instalar `virtualenv` (si no está instalado):\n",
    "\n",
    "Si aún no tienes `virtualenv` instalado, puedes instalarlo utilizando `pip`, el administrador de paquetes de Python. Ejecuta el siguiente comando en tu terminal para instalarlo:"
   ]
  },
  {
   "cell_type": "code",
   "execution_count": null,
   "metadata": {
    "vscode": {
     "languageId": "powershell"
    }
   },
   "outputs": [],
   "source": [
    "python3 -m pip install virtualenv"
   ]
  },
  {
   "cell_type": "markdown",
   "metadata": {},
   "source": [
    "### Crear un nuevo entorno virtual:\n",
    "\n",
    "Ve al directorio donde deseas crear tu entorno virtual y ejecuta el siguiente comando para crear un nuevo entorno virtual llamado `myenv`:\n"
   ]
  },
  {
   "cell_type": "code",
   "execution_count": null,
   "metadata": {
    "vscode": {
     "languageId": "powershell"
    }
   },
   "outputs": [],
   "source": [
    "virtualenv myenv"
   ]
  },
  {
   "cell_type": "markdown",
   "metadata": {},
   "source": [
    "Esto creará un nuevo directorio `myenv` en el directorio actual que contendrá el entorno virtual."
   ]
  },
  {
   "cell_type": "markdown",
   "metadata": {},
   "source": [
    "### Activar el entorno virtual:\n",
    "\n",
    "Una vez que el entorno virtual esté creado, actívalo ejecutando el siguiente comando:"
   ]
  },
  {
   "cell_type": "code",
   "execution_count": null,
   "metadata": {
    "vscode": {
     "languageId": "powershell"
    }
   },
   "outputs": [],
   "source": [
    "source myenv/bin/activate"
   ]
  },
  {
   "cell_type": "markdown",
   "metadata": {},
   "source": [
    "Después de ejecutar este comando, verás que el prompt de tu terminal cambiará para mostrar el nombre del entorno virtual, indicando que está activado."
   ]
  },
  {
   "cell_type": "markdown",
   "metadata": {},
   "source": [
    "4. Instalar Python, pandas, numpy y Jupyter Notebook:\n",
    "\n",
    "Con el entorno virtual activado, puedes instalar las bibliotecas que necesitas utilizando `pip`. Ejecuta los siguientes comandos para instalar Python, pandas, seaborn, matplotlib, numpy y Jupyter Notebook:"
   ]
  },
  {
   "cell_type": "code",
   "execution_count": null,
   "metadata": {
    "vscode": {
     "languageId": "powershell"
    }
   },
   "outputs": [],
   "source": [
    "pip install pandas numpy matplotlib seaborn jupyter"
   ]
  },
  {
   "cell_type": "markdown",
   "metadata": {},
   "source": [
    "### 5. Iniciar Jupyter Notebook:\n",
    "\n",
    "Una vez que hayas instalado todo, puedes iniciar Jupyter Notebook ejecutando el siguiente comando en tu terminal:\n"
   ]
  },
  {
   "cell_type": "code",
   "execution_count": null,
   "metadata": {
    "vscode": {
     "languageId": "powershell"
    }
   },
   "outputs": [],
   "source": [
    "jupyter notebook"
   ]
  },
  {
   "cell_type": "markdown",
   "metadata": {},
   "source": [
    "Esto abrirá Jupyter Notebook en tu navegador web y podrás empezar a trabajar con Python, pandas, numpy y Jupyter Notebook en tu entorno virtual recién creado."
   ]
  },
  {
   "cell_type": "markdown",
   "metadata": {},
   "source": [
    "También puedes ejecutar `code .` esto abrirá Visual Studio Code."
   ]
  },
  {
   "cell_type": "markdown",
   "metadata": {},
   "source": [
    "### 6. Desactivar el entorno virtual (opcional):\n",
    "\n",
    "Cuando hayas terminado de trabajar en tu proyecto y quieras salir del entorno virtual, puedes desactivarlo ejecutando el siguiente comando en tu terminal:"
   ]
  },
  {
   "cell_type": "code",
   "execution_count": null,
   "metadata": {
    "vscode": {
     "languageId": "powershell"
    }
   },
   "outputs": [],
   "source": [
    "deactivate"
   ]
  },
  {
   "cell_type": "markdown",
   "metadata": {
    "vscode": {
     "languageId": "plaintext"
    }
   },
   "source": [
    "Esto restaurará tu entorno de terminal a su estado original. Recuerda que si quieres trabajar en tu proyecto más tarde, necesitarás volver a activar el entorno virtual ejecutando `source myenv/bin/activate`."
   ]
  }
 ],
 "metadata": {
  "kernelspec": {
   "display_name": "Python 3 (ipykernel)",
   "language": "python",
   "name": "python3"
  },
  "language_info": {
   "codemirror_mode": {
    "name": "ipython",
    "version": 3
   },
   "file_extension": ".py",
   "mimetype": "text/x-python",
   "name": "python",
   "nbconvert_exporter": "python",
   "pygments_lexer": "ipython3",
   "version": "3.10.12"
  }
 },
 "nbformat": 4,
 "nbformat_minor": 4
}
